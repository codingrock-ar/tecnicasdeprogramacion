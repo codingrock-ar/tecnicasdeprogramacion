{
  "nbformat": 4,
  "nbformat_minor": 0,
  "metadata": {
    "colab": {
      "provenance": [],
      "authorship_tag": "ABX9TyNw75vdvefj5LyLrM3wGV4J",
      "include_colab_link": true
    },
    "kernelspec": {
      "name": "python3",
      "display_name": "Python 3"
    },
    "language_info": {
      "name": "python"
    }
  },
  "cells": [
    {
      "cell_type": "markdown",
      "metadata": {
        "id": "view-in-github",
        "colab_type": "text"
      },
      "source": [
        "<a href=\"https://colab.research.google.com/github/codingrock-ar/tecnicasdeprogramacion/blob/main/Files_Python.ipynb\" target=\"_parent\"><img src=\"https://colab.research.google.com/assets/colab-badge.svg\" alt=\"Open In Colab\"/></a>"
      ]
    },
    {
      "cell_type": "markdown",
      "source": [
        "3. Uso de PIP para instalar, desinstalar y actualizar paquetes"
      ],
      "metadata": {
        "id": "QKaaBfdNQhHo"
      }
    },
    {
      "cell_type": "code",
      "execution_count": null,
      "metadata": {
        "id": "xNeK0G51P0nX"
      },
      "outputs": [],
      "source": [
        "!pip install numpy\n",
        "!pip uninstall numpy\n",
        "!pip install --upgrade pip"
      ]
    },
    {
      "cell_type": "markdown",
      "source": [
        "Files: open, write, create, delete, read folder, etc"
      ],
      "metadata": {
        "id": "K2wKp0nwQnEC"
      }
    },
    {
      "cell_type": "code",
      "source": [],
      "metadata": {
        "id": "L82DEzZiQnT8"
      },
      "execution_count": null,
      "outputs": []
    }
  ]
}