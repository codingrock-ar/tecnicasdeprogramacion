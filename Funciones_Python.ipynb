{
  "nbformat": 4,
  "nbformat_minor": 0,
  "metadata": {
    "colab": {
      "provenance": [],
      "authorship_tag": "ABX9TyOAfbJ3vnDnx0gunOfKweVY",
      "include_colab_link": true
    },
    "kernelspec": {
      "name": "python3",
      "display_name": "Python 3"
    },
    "language_info": {
      "name": "python"
    }
  },
  "cells": [
    {
      "cell_type": "markdown",
      "metadata": {
        "id": "view-in-github",
        "colab_type": "text"
      },
      "source": [
        "<a href=\"https://colab.research.google.com/github/codingrock-ar/tecnicasdeprogramacion/blob/main/Funciones_Python.ipynb\" target=\"_parent\"><img src=\"https://colab.research.google.com/assets/colab-badge.svg\" alt=\"Open In Colab\"/></a>"
      ]
    },
    {
      "cell_type": "markdown",
      "source": [
        "Funciones"
      ],
      "metadata": {
        "id": "_AhfV_24TR-r"
      }
    },
    {
      "cell_type": "code",
      "execution_count": null,
      "metadata": {
        "id": "KF3voGoHTH_O"
      },
      "outputs": [],
      "source": [
        "# prompt: show me how to use functions in python, include custom and premade functions\n",
        "\n",
        "# Custom function\n",
        "def greet(name):\n",
        "  print(f\"Hello, {name}!\")\n",
        "\n",
        "# Call the custom function\n",
        "greet(\"Alice\")\n",
        "\n",
        "# Premade function\n",
        "print(abs(-10))  # Absolute value\n",
        "\n",
        "# Custom function with default argument\n",
        "def greet(name=\"John Doe\"):\n",
        "  print(f\"Hello, {name}!\")\n",
        "\n",
        "# Call the custom function with default argument\n",
        "greet()  # Output: Hello, John Doe!\n",
        "\n",
        "# Custom function with variable number of arguments\n",
        "def sum(*args):\n",
        "  total = 0\n",
        "  for num in args:\n",
        "    total += num\n",
        "  return total\n",
        "\n",
        "# Call the custom function with variable number of arguments\n",
        "print(sum(1, 2, 3, 4, 5))  # Output: 15\n",
        "\n",
        "# Lambda function\n",
        "square = lambda x: x * x\n",
        "\n",
        "# Call the lambda function\n",
        "print(square(5))  # Output: 25"
      ]
    },
    {
      "cell_type": "markdown",
      "source": [
        "Include code Files"
      ],
      "metadata": {
        "id": "hBCAQvgPToyJ"
      }
    },
    {
      "cell_type": "code",
      "source": [],
      "metadata": {
        "id": "z0FRbLMRTpYH"
      },
      "execution_count": null,
      "outputs": []
    }
  ]
}