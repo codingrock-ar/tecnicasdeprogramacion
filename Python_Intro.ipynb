{
  "nbformat": 4,
  "nbformat_minor": 0,
  "metadata": {
    "colab": {
      "provenance": [],
      "authorship_tag": "ABX9TyMuqILNzmJUh1R5SN0uVjVX",
      "include_colab_link": true
    },
    "kernelspec": {
      "name": "python3",
      "display_name": "Python 3"
    },
    "language_info": {
      "name": "python"
    }
  },
  "cells": [
    {
      "cell_type": "markdown",
      "metadata": {
        "id": "view-in-github",
        "colab_type": "text"
      },
      "source": [
        "<a href=\"https://colab.research.google.com/github/codingrock-ar/tecnicasdeprogramacion/blob/main/Python_Intro.ipynb\" target=\"_parent\"><img src=\"https://colab.research.google.com/assets/colab-badge.svg\" alt=\"Open In Colab\"/></a>"
      ]
    },
    {
      "cell_type": "markdown",
      "source": [
        "1. Ingreso y display de un valor en python"
      ],
      "metadata": {
        "id": "0wAKUnOnhIpH"
      }
    },
    {
      "cell_type": "code",
      "execution_count": null,
      "metadata": {
        "colab": {
          "base_uri": "https://localhost:8080/"
        },
        "id": "tZ5A-n73gjap",
        "outputId": "368f53d5-6a25-41d0-bf47-c4dde5bae641"
      },
      "outputs": [
        {
          "output_type": "stream",
          "name": "stdout",
          "text": [
            "Ingrese un valor:123\n",
            "123\n"
          ]
        }
      ],
      "source": [
        "valor1 = input(\"Ingrese un valor:\")\n",
        "\n",
        "print(valor1)"
      ]
    },
    {
      "cell_type": "markdown",
      "source": [
        "2. Ingreso de un valor y cálculo de operaciones básicas"
      ],
      "metadata": {
        "id": "0EeKYayuhYJn"
      }
    },
    {
      "cell_type": "code",
      "source": [
        "valor1 = int(input(\"Ingrese un valor:\"))\n",
        "valor2 = int(input(\"Ingrese un valor:\"))\n",
        "\n",
        "suma = valor1 + valor2\n",
        "\n",
        "print(suma)"
      ],
      "metadata": {
        "colab": {
          "base_uri": "https://localhost:8080/"
        },
        "id": "eFKL8zsNhXju",
        "outputId": "f7f61feb-8226-439d-c5a1-81414752651a"
      },
      "execution_count": null,
      "outputs": [
        {
          "output_type": "stream",
          "name": "stdout",
          "text": [
            "Ingrese un valor:1\n",
            "Ingrese un valor:20\n",
            "21\n"
          ]
        }
      ]
    },
    {
      "cell_type": "code",
      "source": [
        "valor1 = int(input(\"Ingrese un valor:\"))\n",
        "valor2 = int(input(\"Ingrese un valor:\"))\n",
        "\n",
        "suma = valor1 + valor2\n",
        "\n",
        "print(\"El resultado de la suma es: \", suma)"
      ],
      "metadata": {
        "colab": {
          "base_uri": "https://localhost:8080/"
        },
        "id": "T-uJl07vh5_d",
        "outputId": "ffee13f3-7dc8-4a6f-aba1-8b9e1f248dd6"
      },
      "execution_count": null,
      "outputs": [
        {
          "output_type": "stream",
          "name": "stdout",
          "text": [
            "Ingrese un valor:1\n",
            "Ingrese un valor:29\n",
            "El resultado de la suma es:  30\n"
          ]
        }
      ]
    },
    {
      "cell_type": "markdown",
      "source": [
        "3. Uso de PIP para instalar, desinstalar y actualizar paquetes"
      ],
      "metadata": {
        "id": "BxBKycRfilPd"
      }
    },
    {
      "cell_type": "code",
      "source": [
        "# prompt: show me the use of the pip command\n",
        "\n",
        "!pip install numpy\n",
        "!pip uninstall numpy\n",
        "!pip install --upgrade pip\n"
      ],
      "metadata": {
        "id": "5m7nCEPUikzG"
      },
      "execution_count": null,
      "outputs": []
    }
  ]
}