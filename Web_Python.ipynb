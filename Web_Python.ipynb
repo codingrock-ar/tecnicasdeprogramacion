{
  "nbformat": 4,
  "nbformat_minor": 0,
  "metadata": {
    "colab": {
      "provenance": [],
      "authorship_tag": "ABX9TyOQBvATOTiJClnDR/WC35WR",
      "include_colab_link": true
    },
    "kernelspec": {
      "name": "python3",
      "display_name": "Python 3"
    },
    "language_info": {
      "name": "python"
    }
  },
  "cells": [
    {
      "cell_type": "markdown",
      "metadata": {
        "id": "view-in-github",
        "colab_type": "text"
      },
      "source": [
        "<a href=\"https://colab.research.google.com/github/codingrock-ar/tecnicasdeprogramacion/blob/main/Web_Python.ipynb\" target=\"_parent\"><img src=\"https://colab.research.google.com/assets/colab-badge.svg\" alt=\"Open In Colab\"/></a>"
      ]
    },
    {
      "cell_type": "markdown",
      "source": [
        "Web tools: SERVER, GET and POST arrays, cookies, sessions, redirections, html render, json, requests reading, responses writting. HTTP Status codes."
      ],
      "metadata": {
        "id": "7JNAje7DTtf-"
      }
    },
    {
      "cell_type": "code",
      "execution_count": null,
      "metadata": {
        "id": "1eZa7-F_PzHY"
      },
      "outputs": [],
      "source": []
    }
  ]
}